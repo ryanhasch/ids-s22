{
 "cells": [
  {
   "cell_type": "markdown",
   "id": "c8f9b7c9",
   "metadata": {},
   "source": [
    "(refresh)=\n",
    "\n",
    "# Python Refreshment\n",
    "\n",
    "You have programmed in Python. Regardless of your skill level, let us\n",
    "do some refreshing.\n",
    "\n",
    "## The Python World\n",
    "\n",
    "+ Function: a block of organized, reusable code to complete certain\n",
    "  task.\n",
    "+ Module: a file containing a collection of functions, variables, and\n",
    "  statements.\n",
    "+ Package: a structured directory containing collections of modules\n",
    "  and an `__init.py__` file by which the directory is interpreted as a\n",
    "  package.\n",
    "+ Library: a collection of related functionality of codes. It is a\n",
    "  reusable chunk of code that we can use by importing it in our\n",
    "  program, we can just use it by importing that library and calling\n",
    "  the method of that library with period(.).\n",
    "\n",
    "See, for example, [how to build a Python\n",
    "libratry](https://medium.com/analytics-vidhya/how-to-create-a-python-library-7d5aea80cc3f).\n",
    "\n",
    "\n",
    "Question: How to get the constant $e$ to an arbitary precision?\n",
    "\n",
    "The constant is only represented by a given double precision."
   ]
  },
  {
   "cell_type": "code",
   "execution_count": null,
   "id": "282043f1",
   "metadata": {},
   "outputs": [],
   "source": [
    "import math\n",
    "print(\"%0.20f\" % math.e)\n",
    "print(\"%0.80f\" % math.e)"
   ]
  },
  {
   "cell_type": "markdown",
   "id": "850f7509",
   "metadata": {},
   "source": [
    "Now use package `decimal` to export with an arbitary precision."
   ]
  },
  {
   "cell_type": "code",
   "execution_count": null,
   "id": "dea26042",
   "metadata": {},
   "outputs": [],
   "source": [
    "import decimal  # for what?\n",
    "\n",
    "## set the required number digits to 150\n",
    "decimal.getcontext().prec = 150\n",
    "decimal.Decimal(1).exp().to_eng_string()\n",
    "decimal.Decimal(1).exp().to_eng_string()[2:]"
   ]
  },
  {
   "cell_type": "markdown",
   "id": "3b02d0ac",
   "metadata": {},
   "source": [
    "Question: how to draw a random sample from a normal distribution and\n",
    "evaluate the density and distributions at these points?"
   ]
  },
  {
   "cell_type": "code",
   "execution_count": null,
   "id": "cfc2ea03",
   "metadata": {},
   "outputs": [],
   "source": [
    "from scipy.stats import norm\n",
    "\n",
    "mu, sigma = 2, 4\n",
    "mean, var, skew, kurt = norm.stats(mu, sigma, moments='mvsk')\n",
    "print(mean, var, skew, kurt)\n",
    "x = norm.rvs(loc = mu, scale = sigma, size = 10)\n",
    "x"
   ]
  },
  {
   "cell_type": "markdown",
   "id": "8949b4ed",
   "metadata": {},
   "source": [
    "The pdf and cdf can be evaluated:"
   ]
  },
  {
   "cell_type": "code",
   "execution_count": null,
   "id": "0af192de",
   "metadata": {},
   "outputs": [],
   "source": [
    "norm.pdf(x, loc = mu, scale = sigma)"
   ]
  },
  {
   "cell_type": "markdown",
   "id": "148100e5",
   "metadata": {},
   "source": [
    "## Writing a Function\n",
    "\n",
    "Consider the Fibonacci Sequence\n",
    "$1, 1, 2, 3, 5, 8, 13, 21, 34, ...$.\n",
    "The next number is found by adding up the two numbers before it.\n",
    "We are going to use 3 ways to solve the problems.\n",
    "\n",
    "\n",
    "The first is a recursive solution."
   ]
  },
  {
   "cell_type": "code",
   "execution_count": null,
   "id": "02cb7967",
   "metadata": {},
   "outputs": [],
   "source": [
    "def fib_rs(n):\n",
    "    if (n==1 or n==2):\n",
    "        return 1\n",
    "    else:\n",
    "        return fib_rs(n - 1) + fib_rs(n - 2)\n",
    "\n",
    "%timeit fib_rs(10)"
   ]
  },
  {
   "cell_type": "markdown",
   "id": "5854f08f",
   "metadata": {},
   "source": [
    "The second uses dynamic programming memoization."
   ]
  },
  {
   "cell_type": "code",
   "execution_count": null,
   "id": "937881ce",
   "metadata": {},
   "outputs": [],
   "source": [
    "def fib_dm_helper(n, mem):\n",
    "    if mem[n] is not None:\n",
    "        return mem[n]\n",
    "    elif (n == 1 or n == 2):\n",
    "        result = 1\n",
    "    else:\n",
    "        result = fib_dm_helper(n - 1, mem) + fib_dm_helper(n - 2, mem)\n",
    "    mem[n] = result\n",
    "    return result\n",
    "\n",
    "def fib_dm(n):\n",
    "    mem = [None] * (n + 1)\n",
    "    return fib_dm_helper(n, mem)\n",
    "\n",
    "%timeit fib_dm(10)"
   ]
  },
  {
   "cell_type": "markdown",
   "id": "74869a9d",
   "metadata": {},
   "source": [
    "The third is still dynamic programming but bottom-up."
   ]
  },
  {
   "cell_type": "code",
   "execution_count": null,
   "id": "fe117ef9",
   "metadata": {},
   "outputs": [],
   "source": [
    "def fib_dbu(n):\n",
    "    mem = [None] * (n + 1)\n",
    "    mem[1]=1;\n",
    "    mem[2]=1;\n",
    "    for i in range(3,n+1):\n",
    "        mem[i] = mem[i-1] + mem[i-2]\n",
    "    return mem[n]\n",
    "\n",
    "\n",
    "%timeit fib_dbu(500)"
   ]
  },
  {
   "cell_type": "markdown",
   "id": "1275647f",
   "metadata": {},
   "source": [
    "Apparently, the three solutions have very different performance for\n",
    "larger `n`.\n",
    "\n",
    "\n",
    "## Variables versus Objects\n",
    "\n",
    "In Python, variables and the objects they point to actually live in\n",
    "two different places in the computer memory. Think of variables as\n",
    "pointers to the objects they’re associated with, rather than being\n",
    "those objects. This matters when multiple variables point to the same\n",
    "object."
   ]
  },
  {
   "cell_type": "code",
   "execution_count": null,
   "id": "f62e0fab",
   "metadata": {},
   "outputs": [],
   "source": [
    "x = [1, 2, 3]  # create a list; x points to the list\n",
    "y = x          # y also points to the same list in the memory\n",
    "y.append(4)    # append to y\n",
    "x              # x changed!"
   ]
  },
  {
   "cell_type": "markdown",
   "id": "713d890a",
   "metadata": {},
   "source": [
    "Now check their addresses"
   ]
  },
  {
   "cell_type": "code",
   "execution_count": null,
   "id": "ae255d1a",
   "metadata": {},
   "outputs": [],
   "source": [
    "print(id(x))   # address of x\n",
    "print(id(y))   # address of y"
   ]
  },
  {
   "cell_type": "markdown",
   "id": "1147cdb5",
   "metadata": {},
   "source": [
    "Nonetheless, some data types in Python are \"immutable\", meaning that\n",
    "their values cannot be changed in place. One such example is strings."
   ]
  },
  {
   "cell_type": "code",
   "execution_count": null,
   "id": "9b860ac4",
   "metadata": {},
   "outputs": [],
   "source": [
    "x = \"abc\"\n",
    "y = x\n",
    "y = \"xyz\"\n",
    "x"
   ]
  },
  {
   "cell_type": "markdown",
   "id": "0f8f1e7e",
   "metadata": {},
   "source": [
    "Now check their addresses"
   ]
  },
  {
   "cell_type": "code",
   "execution_count": null,
   "id": "e407a0a8",
   "metadata": {},
   "outputs": [],
   "source": [
    "print(id(x))   # address of x\n",
    "print(id(y))   # address of y"
   ]
  },
  {
   "cell_type": "markdown",
   "id": "20fbc0d8",
   "metadata": {},
   "source": [
    "Question: What's mutable and what's immutable?\n",
    "\n",
    "Anything that is a collection of other objects is mutable, except\n",
    "``tuples``.\n",
    "\n",
    "Not all manipulations of mutable objects change the object rather than\n",
    "create a new object. Sometimes when you do something to a mutable\n",
    "object, you get back a new object. Manipulations that change an\n",
    "existing object, rather than create a new one, are referred to as\n",
    "“in-place mutations” or just “mutations.” So:\n",
    "\n",
    "+ __All__ manipulations of immutable types create new objects.\n",
    "+ __Some__ manipulations of mutable types create new objects.\n",
    "\n",
    "Different variables may all be pointing at the same object is\n",
    "preserved through function calls (a behavior known as “pass by\n",
    "object-reference”). So if you pass a list to a function, and that\n",
    "function manipulates that list using an in-place mutation, that change\n",
    "will affect any variable that was pointing to that same object outside\n",
    "the function."
   ]
  },
  {
   "cell_type": "code",
   "execution_count": null,
   "id": "0232137e",
   "metadata": {},
   "outputs": [],
   "source": [
    "x = [1, 2, 3]\n",
    "y = x\n",
    "\n",
    "def append_42(input_list):\n",
    "    input_list.append(42)\n",
    "    return input_list\n",
    "\n",
    "append_42(x)"
   ]
  },
  {
   "cell_type": "markdown",
   "id": "30112583",
   "metadata": {},
   "source": [
    "Note that both `x` and `y` have been appended by $42$.\n",
    "\n",
    "## Number Representation\n",
    "\n",
    "Numers in a computer's memory are represented by binary styles (on and\n",
    "off of bits).\n",
    "\n",
    "### Integers\n",
    "If not careful, It is easy to be bitten by overflow with integers when\n",
    "using Numpy and Pandas in Python."
   ]
  },
  {
   "cell_type": "code",
   "execution_count": null,
   "id": "692ad58b",
   "metadata": {},
   "outputs": [],
   "source": [
    "import numpy as np\n",
    "\n",
    "x = np.array(2**63 - 1 , dtype='int')\n",
    "x\n",
    "# This should be the largest number numpy can display, with\n",
    "# the default int8 type (64 bits)"
   ]
  },
  {
   "cell_type": "markdown",
   "id": "61470836",
   "metadata": {},
   "source": [
    "What if we increment it by 1?"
   ]
  },
  {
   "cell_type": "code",
   "execution_count": null,
   "id": "cf2d6d79",
   "metadata": {},
   "outputs": [],
   "source": [
    "y = np.array(x + 1, dtype='int')\n",
    "y\n",
    "# Because of the overflow, it becomes negative!"
   ]
  },
  {
   "cell_type": "markdown",
   "id": "503d319a",
   "metadata": {},
   "source": [
    "For vanilla Python, the overflow errors are checked and more digits\n",
    "are allocated when needed, at the cost of being slow."
   ]
  },
  {
   "cell_type": "code",
   "execution_count": null,
   "id": "3c7d8bb5",
   "metadata": {},
   "outputs": [],
   "source": [
    "2**63 * 1000"
   ]
  },
  {
   "cell_type": "markdown",
   "id": "6deeb6fc",
   "metadata": {},
   "source": [
    "This number is 1000 times largger than the prior number,\n",
    "but still displayed perfectly without any overflows\n",
    "\n",
    "### Floating Number\n",
    "\n",
    "Standard double-precision floating point number uses 64 bits. Among\n",
    "them, 1 is for sign, 11 is for exponent, and 52 are fraction significand,\n",
    "See <https://en.wikipedia.org/wiki/Double-precision_floating-point_format>.\n",
    "The bottom line is that, of course, not every real number is exactly\n",
    "representable."
   ]
  },
  {
   "cell_type": "code",
   "execution_count": null,
   "id": "3cba2c8a",
   "metadata": {},
   "outputs": [],
   "source": [
    "0.1 + 0.1 + 0.1 == 0.3"
   ]
  },
  {
   "cell_type": "code",
   "execution_count": null,
   "id": "b94edb30",
   "metadata": {},
   "outputs": [],
   "source": [
    "0.3 - 0.2 == 0.1"
   ]
  },
  {
   "cell_type": "markdown",
   "id": "85d5a68e",
   "metadata": {},
   "source": [
    "What is really going on?"
   ]
  },
  {
   "cell_type": "code",
   "execution_count": null,
   "id": "a6bb6470",
   "metadata": {},
   "outputs": [],
   "source": [
    "import decimal\n",
    "decimal.Decimal(0.1)"
   ]
  },
  {
   "cell_type": "markdown",
   "id": "0fae4671",
   "metadata": {},
   "source": [
    "Because the mantissa bits are limited, it can not represent a floating point\n",
    "that's both very big and very precise. Most computers can represent all integers\n",
    "up to $2^{53}$, after that it starts skipping numbers."
   ]
  },
  {
   "cell_type": "code",
   "execution_count": null,
   "id": "cb6169b1",
   "metadata": {},
   "outputs": [],
   "source": [
    "2.1**53 +1 == 2.1**53\n",
    "\n",
    "# Find a number larger than 2 to the 53rd"
   ]
  },
  {
   "cell_type": "code",
   "execution_count": null,
   "id": "1b74bcec",
   "metadata": {},
   "outputs": [],
   "source": [
    "x = 2.1**53\n",
    "for i in range(1000000):\n",
    "    x = x + 1\n",
    "x == 2.1**53"
   ]
  },
  {
   "cell_type": "markdown",
   "id": "be43cba0",
   "metadata": {},
   "source": [
    "We add 1 to `x` by 1000000 times, but it still equal to its initial\n",
    "value,  2.1**53. This is because this number is too big that computer\n",
    "can't handle it with precision like add 1.\n",
    "\n",
    "Machine epsilon is the smallest positive floating-point number `x` such that\n",
    "`1 + x != 1`."
   ]
  },
  {
   "cell_type": "code",
   "execution_count": null,
   "id": "3f23c238",
   "metadata": {},
   "outputs": [],
   "source": [
    "print(np.finfo(float).eps)\n",
    "print(np.finfo(np.float32).eps)\n"
   ]
  },
  {
   "cell_type": "markdown",
   "id": "f5e92b6d",
   "metadata": {},
   "source": [
    "## Data Importation\n",
    "\n",
    "NYC Open Data is great resource of open data. One specific dataset of\n",
    "interest is the [Motor Vehicle\n",
    "Collisons-Crashes](https://data.cityofnewyork.us/Public-Safety/Motor-Vehicle-Collisions-Crashes/h9gi-nx95).\n",
    "\n",
    "\n",
    "> The Motor Vehicle Collisions crash table contains details on the\n",
    "> crash event. Each row represents a crash event. The Motor Vehicle\n",
    "> Collisions data tables contain information from all police reported\n",
    "> motor vehicle collisions in NYC. The police report (MV104-AN) is\n",
    "> required to be filled out for collisions where someone is injured or\n",
    "> killed, or where there is at least $1000 worth of damage\n",
    "\n",
    "The data is big. I only downloaded the data from January 1 to 25,\n",
    "2022."
   ]
  },
  {
   "cell_type": "code",
   "execution_count": null,
   "id": "916845eb",
   "metadata": {},
   "outputs": [],
   "source": [
    "import pandas as pd\n",
    "\n",
    "nyc_crash = pd.read_csv(\"../data/nyc_mv_collisons_202201.csv\")\n",
    "nyc_crash.head(10)"
   ]
  },
  {
   "cell_type": "markdown",
   "id": "45390635",
   "metadata": {},
   "source": [
    "There are 29 variables."
   ]
  },
  {
   "cell_type": "code",
   "execution_count": null,
   "id": "0396c515",
   "metadata": {},
   "outputs": [],
   "source": [
    "nyc_crash.columns"
   ]
  }
 ],
 "metadata": {
  "jupytext": {
   "text_representation": {
    "extension": ".md",
    "format_name": "myst"
   }
  },
  "kernelspec": {
   "display_name": "Python 3",
   "language": "python",
   "name": "python3"
  },
  "source_map": [
   10,
   40,
   44,
   46,
   53,
   57,
   65,
   67,
   69,
   80,
   88,
   91,
   107,
   110,
   121,
   134,
   139,
   141,
   144,
   149,
   154,
   157,
   160,
   182,
   191,
   204,
   211,
   214,
   218,
   221,
   223,
   236,
   240,
   242,
   244,
   247,
   254,
   260,
   265,
   272,
   276,
   295,
   300,
   303
  ]
 },
 "nbformat": 4,
 "nbformat_minor": 5
}