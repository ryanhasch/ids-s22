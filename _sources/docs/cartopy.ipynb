{
 "cells": [
  {
   "cell_type": "markdown",
   "id": "b857a919",
   "metadata": {},
   "source": [
    "(cartopy)=\n",
    "\n",
    "# Cartopy\n",
    "\n",
    "An executive summary ... its functions ... authors ... and history ...\n",
    "\n",
    "Cartopy is a python library that can be used in combination with matplotlib to create geographical maps. \n",
    "\n",
    "Starting in 2016, The Cartopy Project began development as a replacement for Basemap.\n",
    "\n",
    "Cartopy has 28 people listed as contributors.\n",
    "\n",
    "Pros of Cartopy:\n",
    "- Relatively easy to learn\n",
    "- Many different types of mapping projections\n",
    "- Great options to color in the map\n",
    "\n",
    "Cons of Cartopy:\n",
    "- Slow loading times for complex maps\n",
    "- Alternate files often required for high precision mapping\n",
    "\n",
    "Sources: \n",
    "- https://matplotlib.org/basemap/\n",
    "- https://scitools.org.uk/cartopy/docs/latest/\n",
    "\n",
    "\n",
    "Use the NYC MV Collisons-Crashes data to demonstrate ...\n",
    "\n",
    "Think of questions of interest that can be answered by visualization\n",
    "..."
   ]
  }
 ],
 "metadata": {
  "jupytext": {
   "text_representation": {
    "extension": ".md",
    "format_name": "myst",
    "format_version": 0.13,
    "jupytext_version": "1.11.5"
   }
  },
  "kernelspec": {
   "display_name": "Python 3 (ipykernel)",
   "language": "python",
   "name": "python3"
  },
  "language_info": {
   "codemirror_mode": {
    "name": "ipython",
    "version": 3
   },
   "file_extension": ".py",
   "mimetype": "text/x-python",
   "name": "python",
   "nbconvert_exporter": "python",
   "pygments_lexer": "ipython3",
   "version": "3.9.10"
  },
  "source_map": [
   12
  ]
 },
 "nbformat": 4,
 "nbformat_minor": 5
}