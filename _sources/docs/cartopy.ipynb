{
 "cells": [
  {
   "cell_type": "markdown",
   "id": "b2bd2880",
   "metadata": {},
   "source": [
    "(cartopy)=\n",
    "\n",
    "# Cartopy\n",
    "\n",
    "Cartopy is a python library that can be used in combination with matplotlib to create geographical maps. \n",
    "\n",
    "Starting in 2016, The Cartopy Project began development as a replacement for Basemap.\n",
    "\n",
    "Cartopy has 28 people listed as contributors.\n",
    "\n",
    "To install cartopy use either `conda install -c conda-forge cartopy` or `pip install cartopy` depending on your python setup. \n",
    "\n",
    "Pros of Cartopy:\n",
    "- Relatively easy to learn\n",
    "- Many different types of mapping projections\n",
    "- Great options to color in the map\n",
    "\n",
    "Cons of Cartopy:\n",
    "- Slow loading times for complex maps\n",
    "- Alternate files often required for high precision mapping\n",
    "\n",
    "Sources: \n",
    "- https://matplotlib.org/basemap/\n",
    "- https://scitools.org.uk/cartopy/docs/latest/\n",
    "- https://www.youtube.com/watch?v=4M2aiHvhr5Y"
   ]
  },
  {
   "cell_type": "code",
   "execution_count": null,
   "id": "58ea6f84",
   "metadata": {},
   "outputs": [],
   "source": [
    "import cartopy\n",
    "import cartopy.crs as ccrs\n",
    "import cartopy.feature as cfeature\n",
    "import cartopy.io.shapereader as shpreader\n",
    "import matplotlib.pyplot as plt\n",
    "import pandas as pd\n",
    "import numpy as np\n",
    "import seaborn as sns"
   ]
  },
  {
   "cell_type": "markdown",
   "id": "696c7c40",
   "metadata": {},
   "source": [
    "## Basic Plot\n",
    "\n",
    "To create a cartopy plot, simply set a variable (m for map) to `plt.axes()` with a projection argument. Then add coastlines so the graph has a visible element."
   ]
  },
  {
   "cell_type": "code",
   "execution_count": null,
   "id": "ea77532a",
   "metadata": {},
   "outputs": [],
   "source": [
    "m = plt.axes(projection=ccrs.PlateCarree())\n",
    "m.coastlines()"
   ]
  },
  {
   "cell_type": "markdown",
   "id": "f58a0591",
   "metadata": {},
   "source": [
    "## Advanced Graph\n",
    "\n",
    "By using `add_feature`, we can add more geographic information to our graph. `gridlines` will add longitude and latitude lines to the graph."
   ]
  },
  {
   "cell_type": "code",
   "execution_count": null,
   "id": "0a4764b8",
   "metadata": {},
   "outputs": [],
   "source": [
    "plt.figure(figsize=(16,12))\n",
    "m = plt.axes(projection=ccrs.PlateCarree())\n",
    "\n",
    "m.add_feature(cfeature.LAND)\n",
    "m.add_feature(cfeature.OCEAN)\n",
    "m.add_feature(cfeature.COASTLINE)\n",
    "m.add_feature(cfeature.BORDERS, color = \"red\", alpha = 0.5)\n",
    "m.add_feature(cfeature.LAKES)\n",
    "m.add_feature(cfeature.RIVERS, linestyle = ':')\n",
    "\n",
    "m.gridlines(draw_labels=True, color = \"gray\")"
   ]
  },
  {
   "cell_type": "markdown",
   "id": "59ab3b99",
   "metadata": {},
   "source": [
    "## Projection Comparison\n",
    "\n",
    "Here are some examples of different projections."
   ]
  },
  {
   "cell_type": "code",
   "execution_count": null,
   "id": "8cd8c118",
   "metadata": {},
   "outputs": [],
   "source": [
    "fig = plt.figure(figsize=(20,20))\n",
    "fig.suptitle('Projections', fontsize = 15, y = 0.93)\n",
    "\n",
    "projections = {'PlateCarree': ccrs.PlateCarree(),\n",
    "               'EquidistantConic': ccrs.EquidistantConic(),\n",
    "               'Miller': ccrs.Miller(), \n",
    "               'Mollweide': ccrs.Mollweide(), \n",
    "               'Orthographic': ccrs.Orthographic()}\n",
    "\n",
    "for index, projection in enumerate(projections.items()):\n",
    "    ax = fig.add_subplot(7, 5, index+1, projection=projection[1])\n",
    "    ax.coastlines()\n",
    "    ax.set_title(projection[0])"
   ]
  },
  {
   "cell_type": "markdown",
   "id": "985b6cce",
   "metadata": {},
   "source": [
    "## Plotting Specific Locations\n",
    "\n",
    "If you only want to plot a certain area of the map, you can specify `set_extent`. To do this, specify a list of points `[lowest longitude, highest longitude, lowest latidude, highest latitude]` as well as the projection (optionally)."
   ]
  },
  {
   "cell_type": "code",
   "execution_count": null,
   "id": "03476f59",
   "metadata": {},
   "outputs": [],
   "source": [
    "fig = plt.figure(figsize=(14, 14))\n",
    "m = plt.axes(projection=ccrs.PlateCarree())\n",
    "# (x0, x1, y0, y1)\n",
    "m.set_extent([-130, -60, 20, 55], ccrs.PlateCarree())         \n",
    "m.add_feature(cfeature.STATES)\n",
    "m.coastlines()"
   ]
  },
  {
   "cell_type": "markdown",
   "id": "c0f1e30a",
   "metadata": {},
   "source": [
    "## Reading Shape Files\n",
    "\n",
    "If you would like to plot one area without the adjacent landscape, you can use a shape file via `Reader` from `cartopy.io.shapereader`."
   ]
  },
  {
   "cell_type": "code",
   "execution_count": null,
   "id": "955e8c17",
   "metadata": {},
   "outputs": [],
   "source": [
    "# get shape file\n",
    "reader = shpreader.Reader('../data/state/tl_2021_us_state.dbf')\n",
    "\n",
    "# convert shape file to format that cartopy can work with\n",
    "states = list(reader.geometries())\n",
    "STATES = cfeature.ShapelyFeature(states, ccrs.PlateCarree())\n",
    "\n",
    "# create plot\n",
    "plt.figure(figsize=(10, 6))\n",
    "m = plt.axes(projection=ccrs.PlateCarree())\n",
    "plt.title(\"United States\")\n",
    "m.set_extent([-130, -60, 20, 50])\n",
    "m.add_feature(STATES, facecolor='none', edgecolor='black')"
   ]
  },
  {
   "cell_type": "markdown",
   "id": "83c9bc84",
   "metadata": {},
   "source": [
    "Here is a plot of New York City that we will use later."
   ]
  },
  {
   "cell_type": "code",
   "execution_count": null,
   "id": "efdf5f3a",
   "metadata": {},
   "outputs": [],
   "source": [
    "# get shape file\n",
    "reader = shpreader.Reader('../data/nyc/geo_export_a1f96cd2-7ce6-44bb-9568-f3ee8bcba44a.dbf')\n",
    "\n",
    "# convert shape file to format that cartopy can work with\n",
    "geom = list(reader.geometries())\n",
    "GEOM = cfeature.ShapelyFeature(geom, ccrs.PlateCarree())\n",
    "\n",
    "# create plot\n",
    "plt.figure(figsize=(14, 14))\n",
    "m = plt.axes(projection=ccrs.PlateCarree())\n",
    "plt.title(\"NYC\")\n",
    "m.set_extent([-74.3, -73.6, 40.4, 41])\n",
    "m.add_feature(GEOM, facecolor='none', edgecolor='black')"
   ]
  },
  {
   "cell_type": "markdown",
   "id": "ba93a4c8",
   "metadata": {},
   "source": [
    "## Data Cleaning\n",
    "\n",
    "Before we can work with the NYC Collisions Dataset, we need to do some data cleaning."
   ]
  },
  {
   "cell_type": "code",
   "execution_count": null,
   "id": "59238842",
   "metadata": {},
   "outputs": [],
   "source": [
    "df = pd.read_csv(\"../data/nyc_mv_collisions_202201.csv\")\n",
    "print(df.shape)\n",
    "df.head()"
   ]
  },
  {
   "cell_type": "markdown",
   "id": "8d492eb3",
   "metadata": {},
   "source": [
    "As we can see from the plot below, there are some issues with our dataset."
   ]
  },
  {
   "cell_type": "code",
   "execution_count": null,
   "id": "ce0f6dce",
   "metadata": {},
   "outputs": [],
   "source": [
    "sns.scatterplot(x=\"LONGITUDE\", y=\"LATITUDE\", data=df, hue = \"BOROUGH\")"
   ]
  },
  {
   "cell_type": "markdown",
   "id": "c43df075",
   "metadata": {},
   "source": [
    "Some points have the coordinates `(0, 0)` so we need to remove them from the dataset. We can also remove the rows in which the longitude/latitude data is missing."
   ]
  },
  {
   "cell_type": "code",
   "execution_count": null,
   "id": "60444b16",
   "metadata": {},
   "outputs": [],
   "source": [
    "# drop rows with longitude == 0\n",
    "df[df.LONGITUDE == 0] = np.nan\n",
    "\n",
    "# make sure bad latitude values are all removed now\n",
    "print(df.LATITUDE.isna().sum())\n",
    "print(df.loc[df.LATITUDE == 0].shape[0])\n",
    "\n",
    "df.head()"
   ]
  },
  {
   "cell_type": "code",
   "execution_count": null,
   "id": "4a6a6d38",
   "metadata": {},
   "outputs": [],
   "source": [
    "df.info()"
   ]
  },
  {
   "cell_type": "markdown",
   "id": "6cc07f2a",
   "metadata": {},
   "source": [
    "We can create a plot to show that our data has been successfully cleaned."
   ]
  },
  {
   "cell_type": "code",
   "execution_count": null,
   "id": "3690b85f",
   "metadata": {},
   "outputs": [],
   "source": [
    "# specify the size of the plot\n",
    "fig = plt.figure(figsize=(14, 14))\n",
    "\n",
    "# use seaborn to plot the points\n",
    "# x and y are just the longitude and latitude from the plot\n",
    "# data is the dataframe, which tells seaborn to refernce the dataframe for the rest of the arguments\n",
    "# hue categorizes the colors and style changes the marker to an x if someone was killed\n",
    "# alpha = 0.5 makes the markers 50% transparent\n",
    "# size changes the size of the point based on the amount of injuries\n",
    "# for sizes, I used list concatenation to make each point 25 times bigger\n",
    "sns.scatterplot(x=\"LONGITUDE\", y=\"LATITUDE\", data=df,\n",
    "                hue = 'BOROUGH', style = \"NUMBER OF PERSONS KILLED\", alpha = 0.5,\n",
    "                size = \"NUMBER OF PERSONS INJURED\",\n",
    "                sizes = [(i+1)*25 for i in range(int(max(df[\"NUMBER OF PERSONS INJURED\"] + 1)))])"
   ]
  },
  {
   "cell_type": "markdown",
   "id": "3f1cd1d7",
   "metadata": {},
   "source": [
    "## Plotting On Cartopy Map\n",
    "\n",
    "Using our dataset, we can plot the car crashes on their geographical location."
   ]
  },
  {
   "cell_type": "code",
   "execution_count": null,
   "id": "6ebbf8f0",
   "metadata": {},
   "outputs": [],
   "source": [
    "# specify the size of the plot\n",
    "fig = plt.figure(figsize=(14, 14))\n",
    "\n",
    "# plot on top of geographical coordinates\n",
    "m = plt.axes(projection=ccrs.PlateCarree())\n",
    "\n",
    "# set title\n",
    "plt.title(\"Crashes in New York City (January 2022)\")\n",
    "\n",
    "# set geographical location of graph\n",
    "m.set_extent([np.nanmin(df.LONGITUDE) - 0.01, np.nanmax(df.LONGITUDE) + 0.01,\n",
    "              np.nanmin(df.LATITUDE) - 0.01, np.nanmax(df.LATITUDE) + 0.01], ccrs.PlateCarree())\n",
    "\n",
    "# color in the land (the color is just a hex code for a yellow that I though looked good as land)\n",
    "m.add_feature(cfeature.LAND, color = \"#F3E5AB\")\n",
    "\n",
    "# color in the ocean (colors as blue by default)\n",
    "m.add_feature(cfeature.OCEAN)\n",
    "\n",
    "# use seaborn to plot the points\n",
    "sns.scatterplot(x=\"LONGITUDE\", y=\"LATITUDE\", data=df,\n",
    "                hue = 'BOROUGH', style = \"NUMBER OF PERSONS KILLED\", alpha = 0.5,\n",
    "                size = \"NUMBER OF PERSONS INJURED\",\n",
    "                sizes = [(i+1)*25 for i in range(int(max(df[\"NUMBER OF PERSONS INJURED\"] + 1)))])\n",
    "\n",
    "# if needed, you can add plt.legend(loc = \"...\") to change the location of the legend\n",
    "\n",
    "# draw coastlines\n",
    "m.coastlines()"
   ]
  },
  {
   "cell_type": "markdown",
   "id": "30613292",
   "metadata": {},
   "source": [
    "## Plotting On Cartopy Map Using Shapefile\n",
    "\n",
    "By making use of a shapefile, we can map with greater precision and omit the locations that are not included in our graph."
   ]
  },
  {
   "cell_type": "code",
   "execution_count": null,
   "id": "9d8f43b4",
   "metadata": {},
   "outputs": [],
   "source": [
    "# get shape file\n",
    "reader = shpreader.Reader('../data/nyc/geo_export_a1f96cd2-7ce6-44bb-9568-f3ee8bcba44a.dbf')\n",
    "\n",
    "# convert shape file to format that cartopy can work with\n",
    "geom = list(reader.geometries())\n",
    "GEOM = cfeature.ShapelyFeature(geom, ccrs.PlateCarree())\n",
    "\n",
    "# specify the size of the plot\n",
    "plt.figure(figsize=(14, 14))\n",
    "\n",
    "# plot on top of geographical coordinates\n",
    "m = plt.axes(projection=ccrs.PlateCarree())\n",
    "\n",
    "# make the default color of the plot gray (this ends up just being the background)\n",
    "m.set_facecolor(\"gray\")\n",
    "\n",
    "# set title\n",
    "plt.title(\"Crashes in New York City (January 2022)\")\n",
    "\n",
    "# set geographical location of graph\n",
    "m.set_extent([np.nanmin(df.LONGITUDE) - 0.01, np.nanmax(df.LONGITUDE) + 0.01,\n",
    "              np.nanmin(df.LATITUDE) - 0.01, np.nanmax(df.LATITUDE) + 0.01], ccrs.PlateCarree())\n",
    "\n",
    "# add the in the New York City geography that was originally read in as a shape file\n",
    "m.add_feature(GEOM, facecolor = \"#F3E5AB\", edgecolor='black')\n",
    "\n",
    "# use seaborn to plot the points\n",
    "# setting zorder to a high number makes it so the geography does not cover up the points\n",
    "sns.scatterplot(x=\"LONGITUDE\", y=\"LATITUDE\", data=df,\n",
    "                hue = 'BOROUGH', style = \"NUMBER OF PERSONS KILLED\", alpha = 0.5,\n",
    "                size = \"NUMBER OF PERSONS INJURED\",\n",
    "                sizes = [(i+1)*25 for i in range(int(max(df[\"NUMBER OF PERSONS INJURED\"] + 1)))],\n",
    "                zorder = 100)\n",
    "\n",
    "# if needed, you can add plt.legend(loc = \"...\") to change the location of the legend"
   ]
  },
  {
   "cell_type": "code",
   "execution_count": null,
   "id": "f185903b",
   "metadata": {},
   "outputs": [],
   "source": []
  }
 ],
 "metadata": {
  "jupytext": {
   "text_representation": {
    "extension": ".md",
    "format_name": "myst",
    "format_version": 0.13,
    "jupytext_version": "1.11.5"
   }
  },
  "kernelspec": {
   "display_name": "Python 3 (ipykernel)",
   "language": "python",
   "name": "python3"
  },
  "source_map": [
   12,
   40,
   49,
   55,
   58,
   64,
   76,
   82,
   96,
   102,
   109,
   115,
   129,
   133,
   147,
   153,
   157,
   161,
   163,
   167,
   178,
   180,
   184,
   199,
   205,
   235,
   241,
   279
  ]
 },
 "nbformat": 4,
 "nbformat_minor": 5
}