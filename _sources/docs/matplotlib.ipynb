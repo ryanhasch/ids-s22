{
 "cells": [
  {
   "cell_type": "markdown",
   "id": "08c29722",
   "metadata": {},
   "source": [
    "(matplotlib)=\n",
    "\n",
    "# Matplotlib\n",
    "\n",
    "An executive summary ... its functions ... authors ... and history ...\n",
    "\n",
    "\n",
    "Use the NYC MV Collisons-Crashes data to demonstrate ...\n",
    "\n",
    "\n",
    "Think of questions of interest that can be answered by visualization\n",
    "..."
   ]
  }
 ],
 "metadata": {
  "jupytext": {
   "text_representation": {
    "extension": ".md",
    "format_name": "myst",
    "format_version": 0.13,
    "jupytext_version": "1.11.5"
   }
  },
  "kernelspec": {
   "display_name": "Python 3 (ipykernel)",
   "language": "python",
   "name": "python3"
  },
  "language_info": {
   "codemirror_mode": {
    "name": "ipython",
    "version": 3
   },
   "file_extension": ".py",
   "mimetype": "text/x-python",
   "name": "python",
   "nbconvert_exporter": "python",
   "pygments_lexer": "ipython3",
   "version": "3.8.12"
  },
  "source_map": [
   12
  ]
 },
 "nbformat": 4,
 "nbformat_minor": 5
}