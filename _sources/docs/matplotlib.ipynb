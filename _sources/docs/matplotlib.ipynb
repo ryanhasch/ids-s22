{
 "cells": [
  {
   "cell_type": "markdown",
   "id": "e547d7dc",
   "metadata": {},
   "source": [
    "(matplotlib)=\n",
    "\n",
    "# Matplotlib: Visualization with Python\n",
    "\n",
    "From matplotlib.org:\n",
    "> Matplotlib is a comprehensive library for creating static, animated, and interactive visualizations in Python. Matplotlib makes easy things easy and hard things possible. \n",
    "- Create publication quality plots.\n",
    "- Make interactive figures that can zoom, pan, update.\n",
    "- Customize visual style and layout.\n",
    "- Export to many file formats .\n",
    "- Embed in JupyterLab and Graphical User Interfaces.\n",
    "- Use a rich array of third-party packages built on Matplotlib.\n",
    "\n",
    "## Installing Matplotlib\n",
    "To instally Matplotlib using pip, type the following command into the terminal:\n",
    "> pip intall matplotlib\n",
    "\n",
    "Then, put the following code at the start of any code that uses Matplotlib."
   ]
  },
  {
   "cell_type": "code",
   "execution_count": null,
   "id": "cf32a740",
   "metadata": {},
   "outputs": [],
   "source": [
    "import matplotlib as mpl\n",
    "import matplotlib.pyplot as plt\n",
    "import numpy as np"
   ]
  },
  {
   "cell_type": "markdown",
   "id": "db57c2d4",
   "metadata": {},
   "source": [
    "## A Simple Example\n",
    "The following examples were taken from https://matplotlib.org/stable/tutorials/introductory/usage.html:"
   ]
  },
  {
   "cell_type": "code",
   "execution_count": null,
   "id": "f8084ef7",
   "metadata": {},
   "outputs": [],
   "source": [
    "fig, ax = plt.subplots()  # Create a figure containing a single axes.\n",
    "ax.plot([1, 2, 3, 4], [1, 4, 2, 3]);  # Plot some data on the axes."
   ]
  },
  {
   "cell_type": "markdown",
   "id": "e1559aea",
   "metadata": {},
   "source": [
    "Matplotlib organizes plots into axes and figures. An axes is an object that represents all the plots that have been ploted on the same set of axes -- hence the name. Axes can then be grouped into figures to create multipart visualizations.\n",
    "\n",
    "In the above example a figure and one set of axes are created using the plt.subplots command, and stored in the fig and ax variables, respectively. Then, the plot method is called on ax to create a line plot.\n",
    "\n",
    "Here's a more comlex example, taken from the same tutorial:"
   ]
  },
  {
   "cell_type": "code",
   "execution_count": null,
   "id": "c698d31c",
   "metadata": {},
   "outputs": [],
   "source": [
    "np.random.seed(19680801)  # seed the random number generator.\n",
    "data = {'a': np.arange(50),\n",
    "        'c': np.random.randint(0, 50, 50),\n",
    "        'd': np.random.randn(50)}\n",
    "data['b'] = data['a'] + 10 * np.random.randn(50)\n",
    "data['d'] = np.abs(data['d']) * 100\n",
    "\n",
    "fig, ax = plt.subplots(figsize=(10, 5))\n",
    "ax.scatter('a', 'b', c='c', s='d', data=data)\n",
    "ax.set_xlabel('entry a')\n",
    "ax.set_ylabel('entry b')"
   ]
  },
  {
   "cell_type": "markdown",
   "id": "0ce09ae2",
   "metadata": {},
   "source": [
    "First, we create some random data in four variables, labeled \"a\", \"b\", \"c\" and \"d\". Then we create a figure and axes on which to plot the data. Note how we use the figsize option to make the plot larger, as on the default settings, Matplotlib makes this plot too small. Then, we call the scatter method on the axes to create a scatter plot. Variable a is used as the x-axis, b is the y-axis, c is used to specify the colors of the data points, and d is size. Note that we also have specify the data set that we are plotting using the data argument. Finally, we call the set_xlabel and set_ylabel to label out axes."
   ]
  },
  {
   "cell_type": "markdown",
   "id": "f0407457",
   "metadata": {},
   "source": [
    "## Pyplot\n",
    "The above examples utilized an object oriented style of programming: objects were created to represent figures and axes, and then methods were called on these objects to create the plot. However, with the PyPlot module, we can also use an imperative style. This allows us the get to the business of visualizing the data, without having to worry about keeping track of axes and figures, which PyPlot will manage for us in the background.\n",
    "\n",
    "Here's an example:"
   ]
  },
  {
   "cell_type": "code",
   "execution_count": null,
   "id": "3de4f481",
   "metadata": {},
   "outputs": [],
   "source": [
    "x = np.linspace(0, 2, 100)  # Sample data.\n",
    "\n",
    "plt.figure(figsize=(10, 5))\n",
    "plt.plot(x, x, label='linear')  # Plot some data on the (implicit) axes.\n",
    "plt.plot(x, x**2, label='quadratic')  # etc.\n",
    "plt.plot(x, x**3, label='cubic')\n",
    "plt.xlabel('x label')\n",
    "plt.ylabel('y label')\n",
    "plt.title(\"Simple Plot\")\n",
    "plt.legend();"
   ]
  },
  {
   "cell_type": "markdown",
   "id": "e78f8c65",
   "metadata": {},
   "source": [
    "Here, the plt.plot function was used called three times to graph a linear, quadratic and cubic function. Labeling and titling the visualization was again handled by functions, rather than methods.\n",
    "\n",
    "## Arranging Multiple Axes in a Figure\n",
    "Multiple axes can be plotted to the same figure. A nxm grid can be created by specifying the number of columns and rows when plt.subplots is called."
   ]
  },
  {
   "cell_type": "code",
   "execution_count": null,
   "id": "ae5b41f3",
   "metadata": {},
   "outputs": [],
   "source": [
    "fig, axs = plt.subplots(ncols=2, nrows=2, figsize=(10, 5),\n",
    "                        constrained_layout=True)\n",
    "axs[0,0].scatter('a', 'b', c='c', s='d', data=data)\n",
    "axs[0,0].set_xlabel('entry a')\n",
    "axs[0,0].set_ylabel('entry b');\n",
    "\n",
    "axs[0,1].plot([1, 2, 3, 4], [1, 4, 2, 3])\n",
    "\n",
    "axs[1,0].plot(x, x, label='linear')  \n",
    "axs[1,0].plot(x, x**2, label='quadratic')  \n",
    "axs[1,0].plot(x, x**3, label='cubic')  \n",
    "axs[1,0].set_xlabel('x label')  \n",
    "axs[1,0].set_ylabel('y label')  \n",
    "axs[1,0].set_title(\"Simple Plot\")  \n",
    "axs[1,0].legend()"
   ]
  },
  {
   "cell_type": "markdown",
   "id": "98beee0e",
   "metadata": {},
   "source": [
    "## NYC Data example\n",
    "The following example creates some basic visualizations using the NYC Crash data set. First, we load the data using the read_csv function from pandas. Then, we create a visualization using the countplot function from Seaborn. Seaborn is a package built on top of Matplotlib that contains a lot of functions useful functions for creating statistical data visualizations.\n",
    "\n",
    "One question that comes to mind is: \"how often do crashes in the data set involve fatalities, and if so, how many fatalities?\" Countplot to the rescue!"
   ]
  },
  {
   "cell_type": "code",
   "execution_count": null,
   "id": "6041b75d",
   "metadata": {},
   "outputs": [],
   "source": [
    "import pandas as pd\n",
    "import seaborn as sns\n",
    "\n",
    "nyc_crash = pd.read_csv(\"../data/nyc_mv_collisons_202201.csv\")\n",
    "sns.countplot(x ='NUMBER OF PERSONS KILLED', data = nyc_crash)"
   ]
  },
  {
   "cell_type": "markdown",
   "id": "c687d802",
   "metadata": {},
   "source": [
    "As we see, almost all of the incidents in the data set were non-fatal. That's objectively a good thing, but it makes for a rather boring visualization. Now, let's do the same, but this time, let's look at the number of persons injured -- not just the number of fatalities."
   ]
  },
  {
   "cell_type": "code",
   "execution_count": null,
   "id": "93b523f9",
   "metadata": {},
   "outputs": [],
   "source": [
    "sns.countplot(x ='NUMBER OF PERSONS INJURED', data = nyc_crash)"
   ]
  },
  {
   "cell_type": "markdown",
   "id": "908d0616",
   "metadata": {},
   "source": [
    "As we can see, most of the crashes didn't involve any injuries. Surely this is a great victory for automotive safety. Of those that had injuries, the most common number was one, and the frequency drops off very quickly from there.\n",
    "\n",
    "We can display both of these visualizations on the same plotting grid by making a 1x2 figure with the subplots function from Matplotlib, and then supplying the desired axes to countplot using the ax argument."
   ]
  },
  {
   "cell_type": "code",
   "execution_count": null,
   "id": "8419f14b",
   "metadata": {},
   "outputs": [],
   "source": [
    "fig, axs = plt.subplots(ncols=2, nrows=1, figsize=(10, 5),\n",
    "                        constrained_layout=True)\n",
    "sns.countplot(x ='NUMBER OF PERSONS KILLED', data = nyc_crash, ax=axs[0])\n",
    "sns.countplot(x ='NUMBER OF PERSONS INJURED', data = nyc_crash, ax=axs[1])"
   ]
  },
  {
   "cell_type": "code",
   "execution_count": null,
   "id": "f774f73d",
   "metadata": {},
   "outputs": [],
   "source": []
  }
 ],
 "metadata": {
  "jupytext": {
   "text_representation": {
    "extension": ".md",
    "format_name": "myst",
    "format_version": 0.13,
    "jupytext_version": "1.11.5"
   }
  },
  "kernelspec": {
   "display_name": "Python 3",
   "language": "python",
   "name": "python3"
  },
  "source_map": [
   5,
   26,
   30,
   35,
   38,
   46,
   58,
   62,
   69,
   80,
   87,
   103,
   110,
   116,
   120,
   122,
   128,
   135
  ]
 },
 "nbformat": 4,
 "nbformat_minor": 5
}