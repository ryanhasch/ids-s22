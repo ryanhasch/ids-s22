{
 "cells": [
  {
   "cell_type": "markdown",
   "id": "1103c129",
   "metadata": {},
   "source": [
    "(plotnine)=\n",
    "\n",
    "# Plotnine\n",
    "\n",
    "> plotnine is an implementation of a grammar of graphics in Python, it is based on ggplot2. The grammar allows users to compose plots by explicitly mapping data to the visual objects that make up the plot. Plotting with a grammar is powerful, it makes custom (and otherwise complex) plots easy to think about and then create, while the simple plots remain simple.\n",
    "\n",
    "\n",
    "\n",
    "## Install Plotnine\n",
    "\n",
    "To install plotnine with pip, use the command: \n",
    "> pip install plotnine\n",
    "\n",
    "To install plotnine with conda, use the command:\n",
    "> conda install -c conda-forge plotnine\n",
    "\n",
    "## Import Plotnine\n",
    "First, we need to import pandas, numpy, and plotnine with the following code."
   ]
  },
  {
   "cell_type": "code",
   "execution_count": null,
   "id": "71b75502",
   "metadata": {},
   "outputs": [],
   "source": [
    "import pandas as pd\n",
    "import numpy as np\n",
    "from plotnine import *\n",
    "\n",
    "url = 'https://raw.githubusercontent.com/statds/ids-s22/main/notes/data/nyc_mv_collisions_202201.csv'\n",
    "nyc = pd.read_csv(url)\n",
    "nyc_crash.info()"
   ]
  },
  {
   "cell_type": "markdown",
   "id": "8d044532",
   "metadata": {},
   "source": [
    "## Histograms\n",
    "With plotnine, we can create histogram plots. We can change how the count is visualized. By default it is the raw count, but it can be set to ncount (raw count normalized to 1), density, proportion (width*density), and percent_format."
   ]
  },
  {
   "cell_type": "code",
   "execution_count": null,
   "id": "65528252",
   "metadata": {},
   "outputs": [],
   "source": [
    "nyc['hour'] = [x.split(':')[0] for x in nyc['CRASH TIME']]\n",
    "nyc['hour'] = [int(x) for x in nyc['hour']]\n",
    "(\n",
    "    ggplot(nyc, aes(x = 'hour', y = after_stat('count')))\n",
    "    + geom_histogram(binwidth = 1, bins = 24)\n",
    "    + ggtitle(\"Hourly Crash Count\")\n",
    ")"
   ]
  },
  {
   "cell_type": "markdown",
   "id": "500cf4f7",
   "metadata": {},
   "source": [
    "We can easily add multiple plots. Here we add a plot of the same data with wider bins. We can make the histograms transparent with alpha."
   ]
  },
  {
   "cell_type": "code",
   "execution_count": null,
   "id": "fae877a4",
   "metadata": {},
   "outputs": [],
   "source": [
    "(\n",
    "    ggplot(nyc, aes(x = 'hour', y = after_stat('count')))\n",
    "    + geom_histogram(binwidth = 1, alpha = 0.5)\n",
    "    + geom_histogram(binwidth = 2, alpha = 0.5, fill = 'green')\n",
    "    + ggtitle(\"Hourly and Bihourly Crash Count\")\n",
    ")"
   ]
  },
  {
   "cell_type": "markdown",
   "id": "d5f7e85a",
   "metadata": {},
   "source": [
    "We can visualize the plots with respect to other variables. For the NYC example, we can fill each bin with respect to NYC boroughs."
   ]
  },
  {
   "cell_type": "code",
   "execution_count": null,
   "id": "1c1e2b36",
   "metadata": {},
   "outputs": [],
   "source": [
    "(\n",
    "    ggplot(nyc, aes(x = 'hour', y = after_stat('count'), fill = 'BOROUGH'))\n",
    "    + geom_histogram(binwidth = 4)\n",
    "    + ggtitle(\"Hourly Crash Count for each Borough\")\n",
    ")"
   ]
  },
  {
   "cell_type": "markdown",
   "id": "3f57e3d1",
   "metadata": {},
   "source": [
    "## Boxplot\n",
    "We can make boxplots with plotnine very easily."
   ]
  },
  {
   "cell_type": "code",
   "execution_count": null,
   "id": "2edebccc",
   "metadata": {},
   "outputs": [],
   "source": [
    "(\n",
    "    ggplot(nyc)\n",
    "    + geom_boxplot(aes(x = 'BOROUGH', y = 'NUMBER OF PERSONS INJURED'))\n",
    "    + ggtitle(\"Boxplot of # of Persons Injured for each Borough\")\n",
    ")"
   ]
  },
  {
   "cell_type": "markdown",
   "id": "cd8f8cae",
   "metadata": {},
   "source": [
    "## Violin Plot\n",
    "Violin plots are similar to boxplots, but they also display the density for the numeric data."
   ]
  },
  {
   "cell_type": "code",
   "execution_count": null,
   "id": "790bb487",
   "metadata": {},
   "outputs": [],
   "source": [
    "(\n",
    "  ggplot(nyc, aes('BOROUGH', 'NUMBER OF PERSONS KILLED'))\n",
    "  + geom_violin(nyc)\n",
    "  + geom_point()\n",
    ")"
   ]
  },
  {
   "cell_type": "markdown",
   "id": "fcc18938",
   "metadata": {},
   "source": [
    "## Scatter Plot\n",
    "With geom_point, we can make a simple scatter plot of our data. We can set LONGITUDE as X, LATITUDE as y, and we can color each point by BOROUGH. We can also set alpha so that we can visualize the density of the points."
   ]
  },
  {
   "cell_type": "code",
   "execution_count": null,
   "id": "574bc331",
   "metadata": {},
   "outputs": [],
   "source": [
    "  nyc[nyc.LONGITUDE == 0] = np.nan\n",
    "  nyc_plot = ggplot(nyc, aes(x = 'LONGITUDE', y = 'LATITUDE', color = 'BOROUGH'))\n",
    "  nyc_plot + geom_point(alpha = 0.1) + ggtitle(\"Coordinates of Car Crashes\")"
   ]
  }
 ],
 "metadata": {
  "jupytext": {
   "text_representation": {
    "extension": ".md",
    "format_name": "myst",
    "format_version": 0.13,
    "jupytext_version": "1.11.5"
   }
  },
  "kernelspec": {
   "display_name": "Python 3 (ipykernel)",
   "language": "python",
   "name": "python3"
  },
  "source_map": [
   12,
   32,
   40,
   44,
   52,
   55,
   62,
   65,
   71,
   75,
   81,
   85,
   91,
   95
  ]
 },
 "nbformat": 4,
 "nbformat_minor": 5
}