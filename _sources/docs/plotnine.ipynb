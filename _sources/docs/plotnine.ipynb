{
 "cells": [
  {
   "cell_type": "markdown",
   "id": "47496e1c",
   "metadata": {},
   "source": [
    "(plotnine)=\n",
    "\n",
    "# Plotnine\n",
    "\n",
    "> plotnine is an implementation of a grammar of graphics in Python, it is based on ggplot2. The grammar allows users to compose plots by explicitly mapping data to the visual objects that make up the plot. Plotting with a grammar is powerful, it makes custom (and otherwise complex) plots easy to think about and then create, while the simple plots remain simple.\n",
    "\n",
    "\n",
    "\n",
    "## Install Plotnine\n",
    "\n",
    "To install plotnine with pip, use the command: \n",
    "> pip install plotnine\n",
    "\n",
    "To install plotnine with conda, use the command:\n",
    "> conda install -c conda-forge plotnine\n",
    "\n",
    "## Import Plotnine\n",
    "First, we need to import pandas, numpy, and plotnine with the following code. We also need to read the actual data."
   ]
  },
  {
   "cell_type": "code",
   "execution_count": null,
   "id": "15e49ded",
   "metadata": {},
   "outputs": [],
   "source": [
    "import pandas as pd\n",
    "import numpy as np\n",
    "from plotnine import *\n",
    "\n",
    "url = 'https://raw.githubusercontent.com/statds/ids-s22/main/notes/data/nyc_mv_collisions_202201.csv'\n",
    "nyc = pd.read_csv(url)\n",
    "nyc.info()"
   ]
  },
  {
   "cell_type": "markdown",
   "id": "854fdcaf",
   "metadata": {},
   "source": [
    "It is easy to add elements of a plot with plotnine. We can write each necessary function one by one with a '+' sign.\n",
    "\n",
    "## Histograms\n",
    "With plotnine, we can create histogram plots. We can change how the count is visualized. By default it is the raw count, but it can be set to ncount (raw count normalized to 1), density, proportion (width*density), and percent_format. We must set either binwidth or the number of bins."
   ]
  },
  {
   "cell_type": "code",
   "execution_count": null,
   "id": "6a1f7007",
   "metadata": {},
   "outputs": [],
   "source": [
    "nyc['hour'] = [x.split(':')[0] for x in nyc['CRASH TIME']]\n",
    "nyc['hour'] = [int(x) for x in nyc['hour']]\n",
    "(\n",
    "    ggplot(nyc, aes(x = 'hour', y = after_stat('count')))\n",
    "    + geom_histogram(binwidth = 1, bins = 24)\n",
    "    + ggtitle(\"Hourly Crash Count\")\n",
    ")"
   ]
  },
  {
   "cell_type": "markdown",
   "id": "3c2ab8ab",
   "metadata": {},
   "source": [
    "We can easily add multiple plots. Here we add a plot of the same data with wider bins. We can make the histograms transparent with alpha. We can also set the color of the plot with fill."
   ]
  },
  {
   "cell_type": "code",
   "execution_count": null,
   "id": "39439d4d",
   "metadata": {},
   "outputs": [],
   "source": [
    "(\n",
    "    ggplot(nyc, aes(x = 'hour', y = after_stat('count')))\n",
    "    + geom_histogram(binwidth = 2, alpha = 0.5, fill = 'green')\n",
    "    + geom_histogram(binwidth = 1, alpha = 0.5)\n",
    "    + ggtitle(\"Hourly and Bihourly Crash Count\")\n",
    ")"
   ]
  },
  {
   "cell_type": "markdown",
   "id": "4ab0f9a8",
   "metadata": {},
   "source": [
    "We can visualize the plots with respect to other variables. For the NYC example, we can fill each bin with respect to NYC boroughs."
   ]
  },
  {
   "cell_type": "code",
   "execution_count": null,
   "id": "83ca3b1a",
   "metadata": {},
   "outputs": [],
   "source": [
    "(\n",
    "    ggplot(nyc, aes(x = 'hour', y = after_stat('count'), fill = 'BOROUGH'))\n",
    "    + geom_histogram(binwidth = 4)\n",
    "    + ggtitle(\"Hourly Crash Count for each Borough\")\n",
    ")"
   ]
  },
  {
   "cell_type": "markdown",
   "id": "6088d578",
   "metadata": {},
   "source": [
    "Alternatively, we can split one plot into multiple plots using facet_wrap."
   ]
  },
  {
   "cell_type": "code",
   "execution_count": null,
   "id": "ba3ac54c",
   "metadata": {},
   "outputs": [],
   "source": [
    "(\n",
    "    ggplot(nyc, aes(x = 'hour', y = after_stat('count')))\n",
    "    + geom_histogram(binwidth = 4)\n",
    "    + facet_wrap(\"BOROUGH\")\n",
    "    + ggtitle(\"Hourly Crash Count for each Borough\")\n",
    ")"
   ]
  },
  {
   "cell_type": "markdown",
   "id": "08f5d55e",
   "metadata": {},
   "source": [
    "## Boxplot\n",
    "We can make boxplots with plotnine very easily. In this example, we adjust the angle of the x labels so that they do not overlap."
   ]
  },
  {
   "cell_type": "code",
   "execution_count": null,
   "id": "b656553f",
   "metadata": {},
   "outputs": [],
   "source": [
    "theme_update(axis_text_x = element_text(angle = 45))\n",
    "(\n",
    "    ggplot(nyc, aes(x = 'BOROUGH', y = 'NUMBER OF PERSONS INJURED'))\n",
    "    + geom_boxplot()\n",
    "    + ggtitle(\"Boxplot of # of Persons Injured for each Borough\")\n",
    ")"
   ]
  },
  {
   "cell_type": "markdown",
   "id": "4c8c7ef1",
   "metadata": {},
   "source": [
    "## Violin Plot\n",
    "Violin plots are similar to boxplots, but they also display the density for the numeric data."
   ]
  },
  {
   "cell_type": "code",
   "execution_count": null,
   "id": "a533d689",
   "metadata": {},
   "outputs": [],
   "source": [
    "theme_set(theme_xkcd)\n",
    "theme_update(figure_size = (10, 4))\n",
    "(\n",
    "  ggplot(nyc, aes(x = 'BOROUGH', y = 'NUMBER OF PERSONS KILLED'))\n",
    "  + geom_violin(nyc)\n",
    "  + geom_point()\n",
    ")"
   ]
  },
  {
   "cell_type": "markdown",
   "id": "54c5fdaf",
   "metadata": {},
   "source": [
    "## Time Series\n",
    "We can also make time series with plotnine. In our example we need to group the data by day and borough, and then reset the index to use both as a column variable."
   ]
  },
  {
   "cell_type": "code",
   "execution_count": null,
   "id": "76f2a8a2",
   "metadata": {},
   "outputs": [],
   "source": [
    "theme_set(theme_classic)\n",
    "nyc['day'] = [x.split('/')[1] for x in nyc['CRASH DATE']]\n",
    "nyc['day'] = [int(x) for x in nyc['day']]\n",
    "daily_counts = nyc.groupby(['day', 'BOROUGH'])['BOROUGH'].count()\n",
    "daily_counts = daily_counts.reset_index(name = 'counts')\n",
    "\n",
    "(\n",
    "    ggplot(daily_counts, aes(x = 'day', y = 'counts', color = \"BOROUGH\"))\n",
    "#     + geom_histogram(binwidth = 1, bins = 24)\n",
    "    + geom_line()\n",
    "    + ggtitle(\"Daily Crash Count for Each Borough\")\n",
    ")"
   ]
  },
  {
   "cell_type": "markdown",
   "id": "102fb89e",
   "metadata": {},
   "source": [
    "## Scatter Plot\n",
    "With geom_point, we can make a simple scatter plot of our data. We can set LONGITUDE as X, LATITUDE as y, and we can color each point by BOROUGH. We can also set alpha so that we can visualize the density of the points."
   ]
  },
  {
   "cell_type": "code",
   "execution_count": null,
   "id": "4963f81a",
   "metadata": {},
   "outputs": [],
   "source": [
    "  theme_update(figure_size = (8, 8))  \n",
    "  nyc[nyc.LONGITUDE == 0] = np.nan\n",
    "  nyc_plot = ggplot(nyc, aes(x = 'LONGITUDE', y = 'LATITUDE', color = 'BOROUGH'))\n",
    "  nyc_plot + geom_point(alpha = 0.1) + ggtitle(\"Coordinates of Car Crashes\")"
   ]
  }
 ],
 "metadata": {
  "jupytext": {
   "text_representation": {
    "extension": ".md",
    "format_name": "myst",
    "format_version": 0.13,
    "jupytext_version": "1.11.5"
   }
  },
  "kernelspec": {
   "display_name": "Python 3 (ipykernel)",
   "language": "python",
   "name": "python3"
  },
  "source_map": [
   12,
   34,
   42,
   50,
   58,
   63,
   70,
   75,
   81,
   86,
   93,
   99,
   106,
   112,
   120,
   126,
   139,
   145
  ]
 },
 "nbformat": 4,
 "nbformat_minor": 5
}