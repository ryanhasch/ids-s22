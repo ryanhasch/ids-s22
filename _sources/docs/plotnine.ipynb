{
 "cells": [
  {
   "cell_type": "markdown",
   "id": "5165126c",
   "metadata": {},
   "source": [
    "(plotnine)=\n",
    "\n",
    "# Plotnine\n",
    "\n",
    "> plotnine is an implementation of a grammar of graphics in Python, it is based on ggplot2. The grammar allows users to compose plots by explicitly mapping data to the visual objects that make up the plot. Plotting with a grammar is powerful, it makes custom (and otherwise complex) plots easy to think about and then create, while the simple plots remain simple.\n",
    "\n",
    "## Install Plotnine\n",
    "\n",
    "To install plotnine with pip, use the command: \n",
    "> pip install plotnine\n",
    "\n",
    "## Import Plotnine\n",
    "First we need to import pandas, numpy, and plotnine with the following code:"
   ]
  },
  {
   "cell_type": "code",
   "execution_count": null,
   "id": "f9f2ba32",
   "metadata": {},
   "outputs": [],
   "source": [
    "import pandas as pd\n",
    "import numpy as np\n",
    "from plotnine import *\n",
    "\n",
    "url = 'https://raw.githubusercontent.com/statds/ids-s22/main/notes/data/nyc_mv_collisions_202201.csv'\n",
    "nyc = pd.read_csv(url)\n",
    "nyc_crash.info()"
   ]
  },
  {
   "cell_type": "markdown",
   "id": "0547b2f6",
   "metadata": {},
   "source": [
    "## Histograms\n",
    "With plotnine, we can create histogram plots."
   ]
  },
  {
   "cell_type": "code",
   "execution_count": null,
   "id": "3b90a091",
   "metadata": {},
   "outputs": [],
   "source": [
    "nyc['hour'] = [x.split(':')[0] for x in nyc['CRASH TIME']]\n",
    "nyc['hour'] = [int(x) for x in nyc['hour']]\n",
    "(\n",
    "    ggplot(nyc, aes(x = 'hour', y = after_stat('count')))\n",
    "    + geom_histogram(binwidth = 1, bins = 24)\n",
    "    + ggtitle(\"Hourly Crash Count\")\n",
    ")"
   ]
  },
  {
   "cell_type": "markdown",
   "id": "f10d38bb",
   "metadata": {},
   "source": [
    "We can easily add multiple plots."
   ]
  },
  {
   "cell_type": "code",
   "execution_count": null,
   "id": "ad630b67",
   "metadata": {},
   "outputs": [],
   "source": [
    "(\n",
    "    ggplot(nyc, aes(x = 'hour', y = after_stat('count')))\n",
    "    + geom_histogram(binwidth = 1, alpha = 0.5)\n",
    "    + geom_histogram(binwidth = 2, alpha = 0.5, fill = 'green')\n",
    "    + ggtitle(\"Hourly and Bihourly Crash Count\")\n",
    ")"
   ]
  },
  {
   "cell_type": "markdown",
   "id": "a931a54e",
   "metadata": {},
   "source": [
    "We can visualize the plots with respect to other variables."
   ]
  },
  {
   "cell_type": "code",
   "execution_count": null,
   "id": "9f05c15c",
   "metadata": {},
   "outputs": [],
   "source": [
    "(\n",
    "    ggplot(nyc, aes(x = 'hour', y = after_stat('count'), fill = 'BOROUGH'))\n",
    "    + geom_histogram(binwidth = 4)\n",
    "    + ggtitle(\"Hourly Crash Count for each Borough\")\n",
    ")"
   ]
  },
  {
   "cell_type": "markdown",
   "id": "51efd65c",
   "metadata": {},
   "source": [
    "## Boxplot"
   ]
  },
  {
   "cell_type": "code",
   "execution_count": null,
   "id": "ba2298de",
   "metadata": {},
   "outputs": [],
   "source": [
    "(\n",
    "    ggplot(nyc)\n",
    "    + geom_boxplot(aes(x = 'BOROUGH', y = 'NUMBER OF PERSONS INJURED'))\n",
    "    + ggtitle(\"Boxplot of # of Persons Injured for each Borough\")\n",
    ")"
   ]
  },
  {
   "cell_type": "markdown",
   "id": "de3d32b0",
   "metadata": {},
   "source": [
    "## Violin Plot"
   ]
  },
  {
   "cell_type": "code",
   "execution_count": null,
   "id": "2ab968e4",
   "metadata": {},
   "outputs": [],
   "source": [
    "(\n",
    "  ggplot(nyc, aes('BOROUGH', 'NUMBER OF PERSONS KILLED'))\n",
    "  + geom_violin(nyc)\n",
    "  + geom_point()\n",
    ")"
   ]
  }
 ],
 "metadata": {
  "jupytext": {
   "text_representation": {
    "extension": ".md",
    "format_name": "myst",
    "format_version": 0.13,
    "jupytext_version": "1.11.5"
   }
  },
  "kernelspec": {
   "display_name": "Python 3 (ipykernel)",
   "language": "python",
   "name": "python3"
  },
  "source_map": [
   12,
   27,
   35,
   39,
   47,
   50,
   57,
   60,
   66,
   69,
   75,
   78
  ]
 },
 "nbformat": 4,
 "nbformat_minor": 5
}