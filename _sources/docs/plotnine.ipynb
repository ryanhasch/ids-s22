{
 "cells": [
  {
   "cell_type": "markdown",
   "id": "e2ce7275",
   "metadata": {},
   "source": [
    "(plotnine)=\n",
    "\n",
    "# Plotnine\n",
    "\n",
    "> plotnine is an implementation of a grammar of graphics in Python, it is based on ggplot2. The grammar allows users to compose plots by explicitly mapping data to the visual objects that make up the plot. Plotting with a grammar is powerful, it makes custom (and otherwise complex) plots easy to think about and then create, while the simple plots remain simple.\n",
    "\n",
    "## Install Plotnine\n",
    "\n",
    "To install plotnine with pip, use the command: \n",
    "> pip install plotnine\n",
    "\n",
    "## Import Plotnine\n",
    "First we need to import pandas, numpy, and plotnine with the following code:"
   ]
  },
  {
   "cell_type": "code",
   "execution_count": null,
   "id": "13089ab0",
   "metadata": {},
   "outputs": [],
   "source": [
    "import pandas as pd\n",
    "import numpy as np\n",
    "from plotnine import *\n",
    "\n",
    "nyc = pd.read_csv(\"../data/nyc_mv_collisions_202201.csv\")\n",
    "nyc_crash.info()"
   ]
  }
 ],
 "metadata": {
  "jupytext": {
   "text_representation": {
    "extension": ".md",
    "format_name": "myst",
    "format_version": 0.13,
    "jupytext_version": "1.11.5"
   }
  },
  "kernelspec": {
   "display_name": "Python 3 (ipykernel)",
   "language": "python",
   "name": "python3"
  },
  "source_map": [
   12,
   27
  ]
 },
 "nbformat": 4,
 "nbformat_minor": 5
}