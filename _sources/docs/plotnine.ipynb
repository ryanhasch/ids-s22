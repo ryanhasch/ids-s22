{
 "cells": [
  {
   "cell_type": "markdown",
   "id": "d80ce22e",
   "metadata": {},
   "source": [
    "(plotnine)=\n",
    "\n",
    "# Plotnine\n",
    "\n",
    "> plotnine is an implementation of a grammar of graphics in Python, it is based on ggplot2. The grammar allows users to compose plots by explicitly mapping data to the visual objects that make up the plot. Plotting with a grammar is powerful, it makes custom (and otherwise complex) plots easy to think about and then create, while the simple plots remain simple.\n",
    "\n",
    "## Install Plotnine\n",
    "\n",
    "To install plotnine with pip, use the command: \n",
    "> pip install plotnine\n",
    "\n",
    "## Import Plotnine\n",
    "First we need to import pandas, numpy, and plotnine with the following code:"
   ]
  },
  {
   "cell_type": "code",
   "execution_count": null,
   "id": "84db0e94",
   "metadata": {},
   "outputs": [],
   "source": [
    "import pandas as pd\n",
    "import numpy as np\n",
    "from plotnine import *\n",
    "\n",
    "url = 'https://raw.githubusercontent.com/statds/ids-s22/main/notes/data/nyc_mv_collisions_202201.csv'\n",
    "nyc = pd.read_csv(url)\n",
    "nyc_crash.info()"
   ]
  },
  {
   "cell_type": "markdown",
   "id": "67200318",
   "metadata": {},
   "source": [
    "## Histograms\n",
    "With plotnine, we can create histogram plots."
   ]
  },
  {
   "cell_type": "code",
   "execution_count": null,
   "id": "30933d19",
   "metadata": {},
   "outputs": [],
   "source": [
    "nyc['hour'] = [x.split(':')[0] for x in nyc['CRASH TIME']]\n",
    "nyc['hour'] = [int(x) for x in nyc['hour']]\n",
    "(\n",
    "    ggplot(nyc, aes(x = 'hour', y = after_stat('count')))\n",
    "    + geom_histogram(binwidth = 1, bins = 24)\n",
    "    + ggtitle(\"Hourly Crash Count\")\n",
    ")"
   ]
  },
  {
   "cell_type": "markdown",
   "id": "95202307",
   "metadata": {},
   "source": [
    "We can easily add multiple plots."
   ]
  },
  {
   "cell_type": "code",
   "execution_count": null,
   "id": "8ab34f39",
   "metadata": {},
   "outputs": [],
   "source": [
    "(\n",
    "    ggplot(nyc, aes(x = 'hour', y = after_stat('count')))\n",
    "    + geom_histogram(binwidth = 1, alpha = 0.5)\n",
    "    + geom_histogram(binwidth = 2, alpha = 0.5, fill = 'green')\n",
    "    + ggtitle(\"Hourly and Bihourly Crash Count\")\n",
    ")"
   ]
  },
  {
   "cell_type": "markdown",
   "id": "ec31e8f2",
   "metadata": {},
   "source": [
    "We can visualize the plots with respect to other variables."
   ]
  },
  {
   "cell_type": "code",
   "execution_count": null,
   "id": "53c9bec9",
   "metadata": {},
   "outputs": [],
   "source": [
    "(\n",
    "    ggplot(nyc, aes(x = 'hour', y = after_stat('count'), fill = 'BOROUGH'))\n",
    "    + geom_histogram(binwidth = 4)\n",
    "    + ggtitle(\"Hourly Crash Count for each Borough\")\n",
    ")"
   ]
  },
  {
   "cell_type": "markdown",
   "id": "2863ee84",
   "metadata": {},
   "source": [
    "## Boxplot"
   ]
  },
  {
   "cell_type": "code",
   "execution_count": null,
   "id": "db4ceda5",
   "metadata": {},
   "outputs": [],
   "source": [
    "(\n",
    "    ggplot(nyc)\n",
    "    + geom_boxplot(aes(x = 'BOROUGH', y = 'NUMBER OF PERSONS INJURED'))\n",
    "    + ggtitle(\"Boxplot of # of Persons Injured for each Borough\")\n",
    ")"
   ]
  },
  {
   "cell_type": "markdown",
   "id": "1c2051e2",
   "metadata": {},
   "source": [
    "## Violin Plot"
   ]
  },
  {
   "cell_type": "code",
   "execution_count": null,
   "id": "5c267525",
   "metadata": {},
   "outputs": [],
   "source": [
    "(\n",
    "  ggplot(nyc, aes('BOROUGH', 'NUMBER OF PERSONS KILLED'))\n",
    "  + geom_violin(nyc)\n",
    "  + geom_point()\n",
    ")"
   ]
  },
  {
   "cell_type": "markdown",
   "id": "9834e5d2",
   "metadata": {},
   "source": [
    "## Scatter Plot"
   ]
  },
  {
   "cell_type": "code",
   "execution_count": null,
   "id": "65a8b98e",
   "metadata": {},
   "outputs": [],
   "source": [
    "(\n",
    "  nyc[nyc.LONGITUDE == 0] = np.nan\n",
    "nyc_plot = ggplot(nyc, aes(x = 'LONGITUDE', y = 'LATITUDE', color = 'BOROUGH'))\n",
    "nyc_plot + geom_point(alpha = 0.1) + ggtitle(\"Coordinates of Car Crashes\")\n",
    ")"
   ]
  },
  {
   "cell_type": "markdown",
   "id": "036effd1",
   "metadata": {},
   "source": [
    ")"
   ]
  }
 ],
 "metadata": {
  "jupytext": {
   "text_representation": {
    "extension": ".md",
    "format_name": "myst",
    "format_version": 0.13,
    "jupytext_version": "1.11.5"
   }
  },
  "kernelspec": {
   "display_name": "Python 3 (ipykernel)",
   "language": "python",
   "name": "python3"
  },
  "source_map": [
   12,
   27,
   35,
   39,
   47,
   50,
   57,
   60,
   66,
   69,
   75,
   78,
   84,
   87,
   93
  ]
 },
 "nbformat": 4,
 "nbformat_minor": 5
}